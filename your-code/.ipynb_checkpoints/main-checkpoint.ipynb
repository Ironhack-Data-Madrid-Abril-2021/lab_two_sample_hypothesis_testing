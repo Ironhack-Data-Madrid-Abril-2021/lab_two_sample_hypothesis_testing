{
 "cells": [
  {
   "cell_type": "markdown",
   "metadata": {},
   "source": [
    "# Before your start:\n",
    "- Read the README.md file\n",
    "- Comment as much as you can and use the resources (README.md file)\n",
    "- Happy learning!"
   ]
  },
  {
   "cell_type": "code",
   "execution_count": 1,
   "metadata": {},
   "outputs": [],
   "source": [
    "# import numpy and pandas\n",
    "import numpy as np\n",
    "import pandas as pd"
   ]
  },
  {
   "cell_type": "code",
   "execution_count": 139,
   "metadata": {},
   "outputs": [],
   "source": [
    "from scipy.stats import f_oneway, norm, f, chi2, chi2_contingency"
   ]
  },
  {
   "cell_type": "markdown",
   "metadata": {},
   "source": [
    "# Challenge 1 - Independent Sample T-tests\n",
    "\n",
    "In this challenge, we will be using the Pokemon dataset. Before applying statistical methods to this data, let's first examine the data.\n",
    "\n",
    "To load the data, run the code below."
   ]
  },
  {
   "cell_type": "code",
   "execution_count": 19,
   "metadata": {},
   "outputs": [],
   "source": [
    "# Run this code:\n",
    "\n",
    "pokemon = pd.read_csv('../pokemon.csv')"
   ]
  },
  {
   "cell_type": "code",
   "execution_count": 22,
   "metadata": {},
   "outputs": [
    {
     "name": "stdout",
     "output_type": "stream",
     "text": [
      "<class 'pandas.core.frame.DataFrame'>\n",
      "RangeIndex: 800 entries, 0 to 799\n",
      "Data columns (total 13 columns):\n",
      " #   Column      Non-Null Count  Dtype \n",
      "---  ------      --------------  ----- \n",
      " 0   #           800 non-null    int64 \n",
      " 1   Name        800 non-null    object\n",
      " 2   Type 1      800 non-null    object\n",
      " 3   Type 2      800 non-null    object\n",
      " 4   Total       800 non-null    int64 \n",
      " 5   HP          800 non-null    int64 \n",
      " 6   Attack      800 non-null    int64 \n",
      " 7   Defense     800 non-null    int64 \n",
      " 8   Sp. Atk     800 non-null    int64 \n",
      " 9   Sp. Def     800 non-null    int64 \n",
      " 10  Speed       800 non-null    int64 \n",
      " 11  Generation  800 non-null    int64 \n",
      " 12  Legendary   800 non-null    bool  \n",
      "dtypes: bool(1), int64(9), object(3)\n",
      "memory usage: 75.9+ KB\n"
     ]
    }
   ],
   "source": [
    "pokemon.info()"
   ]
  },
  {
   "cell_type": "code",
   "execution_count": 21,
   "metadata": {},
   "outputs": [],
   "source": [
    "pokemon['Type 2'] = pokemon['Type 2'].fillna(pokemon['Type 2'] == 'no type 2')"
   ]
  },
  {
   "cell_type": "markdown",
   "metadata": {},
   "source": [
    "Let's start off by looking at the `head` function in the cell below."
   ]
  },
  {
   "cell_type": "code",
   "execution_count": 5,
   "metadata": {},
   "outputs": [
    {
     "data": {
      "text/html": [
       "<div>\n",
       "<style scoped>\n",
       "    .dataframe tbody tr th:only-of-type {\n",
       "        vertical-align: middle;\n",
       "    }\n",
       "\n",
       "    .dataframe tbody tr th {\n",
       "        vertical-align: top;\n",
       "    }\n",
       "\n",
       "    .dataframe thead th {\n",
       "        text-align: right;\n",
       "    }\n",
       "</style>\n",
       "<table border=\"1\" class=\"dataframe\">\n",
       "  <thead>\n",
       "    <tr style=\"text-align: right;\">\n",
       "      <th></th>\n",
       "      <th>#</th>\n",
       "      <th>Name</th>\n",
       "      <th>Type 1</th>\n",
       "      <th>Type 2</th>\n",
       "      <th>Total</th>\n",
       "      <th>HP</th>\n",
       "      <th>Attack</th>\n",
       "      <th>Defense</th>\n",
       "      <th>Sp. Atk</th>\n",
       "      <th>Sp. Def</th>\n",
       "      <th>Speed</th>\n",
       "      <th>Generation</th>\n",
       "      <th>Legendary</th>\n",
       "    </tr>\n",
       "  </thead>\n",
       "  <tbody>\n",
       "    <tr>\n",
       "      <th>0</th>\n",
       "      <td>1</td>\n",
       "      <td>Bulbasaur</td>\n",
       "      <td>Grass</td>\n",
       "      <td>Poison</td>\n",
       "      <td>318</td>\n",
       "      <td>45</td>\n",
       "      <td>49</td>\n",
       "      <td>49</td>\n",
       "      <td>65</td>\n",
       "      <td>65</td>\n",
       "      <td>45</td>\n",
       "      <td>1</td>\n",
       "      <td>False</td>\n",
       "    </tr>\n",
       "    <tr>\n",
       "      <th>1</th>\n",
       "      <td>2</td>\n",
       "      <td>Ivysaur</td>\n",
       "      <td>Grass</td>\n",
       "      <td>Poison</td>\n",
       "      <td>405</td>\n",
       "      <td>60</td>\n",
       "      <td>62</td>\n",
       "      <td>63</td>\n",
       "      <td>80</td>\n",
       "      <td>80</td>\n",
       "      <td>60</td>\n",
       "      <td>1</td>\n",
       "      <td>False</td>\n",
       "    </tr>\n",
       "    <tr>\n",
       "      <th>2</th>\n",
       "      <td>3</td>\n",
       "      <td>Venusaur</td>\n",
       "      <td>Grass</td>\n",
       "      <td>Poison</td>\n",
       "      <td>525</td>\n",
       "      <td>80</td>\n",
       "      <td>82</td>\n",
       "      <td>83</td>\n",
       "      <td>100</td>\n",
       "      <td>100</td>\n",
       "      <td>80</td>\n",
       "      <td>1</td>\n",
       "      <td>False</td>\n",
       "    </tr>\n",
       "    <tr>\n",
       "      <th>3</th>\n",
       "      <td>3</td>\n",
       "      <td>VenusaurMega Venusaur</td>\n",
       "      <td>Grass</td>\n",
       "      <td>Poison</td>\n",
       "      <td>625</td>\n",
       "      <td>80</td>\n",
       "      <td>100</td>\n",
       "      <td>123</td>\n",
       "      <td>122</td>\n",
       "      <td>120</td>\n",
       "      <td>80</td>\n",
       "      <td>1</td>\n",
       "      <td>False</td>\n",
       "    </tr>\n",
       "    <tr>\n",
       "      <th>4</th>\n",
       "      <td>4</td>\n",
       "      <td>Charmander</td>\n",
       "      <td>Fire</td>\n",
       "      <td>NaN</td>\n",
       "      <td>309</td>\n",
       "      <td>39</td>\n",
       "      <td>52</td>\n",
       "      <td>43</td>\n",
       "      <td>60</td>\n",
       "      <td>50</td>\n",
       "      <td>65</td>\n",
       "      <td>1</td>\n",
       "      <td>False</td>\n",
       "    </tr>\n",
       "  </tbody>\n",
       "</table>\n",
       "</div>"
      ],
      "text/plain": [
       "   #                   Name Type 1  Type 2  Total  HP  Attack  Defense  \\\n",
       "0  1              Bulbasaur  Grass  Poison    318  45      49       49   \n",
       "1  2                Ivysaur  Grass  Poison    405  60      62       63   \n",
       "2  3               Venusaur  Grass  Poison    525  80      82       83   \n",
       "3  3  VenusaurMega Venusaur  Grass  Poison    625  80     100      123   \n",
       "4  4             Charmander   Fire     NaN    309  39      52       43   \n",
       "\n",
       "   Sp. Atk  Sp. Def  Speed  Generation  Legendary  \n",
       "0       65       65     45           1      False  \n",
       "1       80       80     60           1      False  \n",
       "2      100      100     80           1      False  \n",
       "3      122      120     80           1      False  \n",
       "4       60       50     65           1      False  "
      ]
     },
     "execution_count": 5,
     "metadata": {},
     "output_type": "execute_result"
    }
   ],
   "source": [
    "# Your code here:\n",
    "pokemon.head()"
   ]
  },
  {
   "cell_type": "markdown",
   "metadata": {},
   "source": [
    "The first thing we would like to do is compare the legendary Pokemon to the regular Pokemon. To do this, we should examine the data further. What is the count of legendary vs. non legendary Pokemons?"
   ]
  },
  {
   "cell_type": "code",
   "execution_count": 61,
   "metadata": {},
   "outputs": [
    {
     "data": {
      "text/plain": [
       "735"
      ]
     },
     "execution_count": 61,
     "metadata": {},
     "output_type": "execute_result"
    }
   ],
   "source": [
    "# Your code here:\n",
    "\n",
    "pokemon.Legendary.value_counts()[0]"
   ]
  },
  {
   "cell_type": "code",
   "execution_count": 37,
   "metadata": {},
   "outputs": [
    {
     "data": {
      "text/plain": [
       "0.27338958434995064"
      ]
     },
     "execution_count": 37,
     "metadata": {},
     "output_type": "execute_result"
    }
   ],
   "source": [
    "pokemon.Legendary.std()"
   ]
  },
  {
   "cell_type": "markdown",
   "metadata": {},
   "source": [
    "Compute the mean and standard deviation of the total points for both legendary and non-legendary Pokemon."
   ]
  },
  {
   "cell_type": "code",
   "execution_count": 39,
   "metadata": {},
   "outputs": [],
   "source": [
    "# Your code here:\n",
    "totalmean = pd.DataFrame(pokemon.groupby('Legendary').mean()['Total']).reset_index()\n",
    "totalstd = pd.DataFrame(pokemon.groupby('Legendary').std()['Total']).reset_index()\n",
    "\n",
    "Legendary = pd.merge(totalmean, totalstd, how = 'left', left_on = totalmean.Legendary, right_on = totalstd.Legendary)\n",
    "\n",
    "Legendary = Legendary.rename(columns = {'key_0': 'Legendary','Total_x': 'Mean', 'Total_y': 'Standard Deviation'})\n",
    "Legendary = Legendary.drop(columns = ['Legendary'], axis = 1)"
   ]
  },
  {
   "cell_type": "code",
   "execution_count": 42,
   "metadata": {},
   "outputs": [
    {
     "data": {
      "text/html": [
       "<div>\n",
       "<style scoped>\n",
       "    .dataframe tbody tr th:only-of-type {\n",
       "        vertical-align: middle;\n",
       "    }\n",
       "\n",
       "    .dataframe tbody tr th {\n",
       "        vertical-align: top;\n",
       "    }\n",
       "\n",
       "    .dataframe thead th {\n",
       "        text-align: right;\n",
       "    }\n",
       "</style>\n",
       "<table border=\"1\" class=\"dataframe\">\n",
       "  <thead>\n",
       "    <tr style=\"text-align: right;\">\n",
       "      <th></th>\n",
       "      <th>Legendary</th>\n",
       "      <th>Mean</th>\n",
       "      <th>Standard Deviation</th>\n",
       "    </tr>\n",
       "  </thead>\n",
       "  <tbody>\n",
       "    <tr>\n",
       "      <th>0</th>\n",
       "      <td>False</td>\n",
       "      <td>417.213605</td>\n",
       "      <td>106.760417</td>\n",
       "    </tr>\n",
       "    <tr>\n",
       "      <th>1</th>\n",
       "      <td>True</td>\n",
       "      <td>637.384615</td>\n",
       "      <td>60.937389</td>\n",
       "    </tr>\n",
       "  </tbody>\n",
       "</table>\n",
       "</div>"
      ],
      "text/plain": [
       "   Legendary        Mean  Standard Deviation\n",
       "0      False  417.213605          106.760417\n",
       "1       True  637.384615           60.937389"
      ]
     },
     "execution_count": 42,
     "metadata": {},
     "output_type": "execute_result"
    }
   ],
   "source": [
    "Legendary = Legendary.rename(columns = {'Legendary_x': 'Legendary'})\n",
    "Legendary = Legendary.drop(columns = ['Legendary_y'], axis = 1)\n",
    "Legendary"
   ]
  },
  {
   "cell_type": "code",
   "execution_count": 62,
   "metadata": {},
   "outputs": [
    {
     "data": {
      "text/plain": [
       "417.21360544217686"
      ]
     },
     "execution_count": 62,
     "metadata": {},
     "output_type": "execute_result"
    }
   ],
   "source": [
    "Legendary['Mean'][0]"
   ]
  },
  {
   "cell_type": "code",
   "execution_count": null,
   "metadata": {},
   "outputs": [],
   "source": [
    "pokemons"
   ]
  },
  {
   "cell_type": "markdown",
   "metadata": {},
   "source": [
    "The computation of the mean might give us a clue regarding how the statistical test may turn out; However, it certainly does not prove whether there is a significant difference between the two groups.\n",
    "\n",
    "In the cell below, use the `ttest_ind` function in `scipy.stats` to compare the the total points for legendary and non-legendary Pokemon. Since we do not have any information about the population, assume the variances are not equal."
   ]
  },
  {
   "cell_type": "code",
   "execution_count": 68,
   "metadata": {},
   "outputs": [],
   "source": [
    "from scipy import stats\n",
    "import scipy.stats as stats\n",
    "from scipy.stats import ttest_ind_from_stats"
   ]
  },
  {
   "cell_type": "code",
   "execution_count": 70,
   "metadata": {},
   "outputs": [
    {
     "data": {
      "text/plain": [
       "Ttest_indResult(statistic=-16.386116965872425, pvalue=3.0952457469652825e-52)"
      ]
     },
     "execution_count": 70,
     "metadata": {},
     "output_type": "execute_result"
    }
   ],
   "source": [
    "# Your code here:\n",
    "\n",
    "ttest_ind_from_stats(mean1 = Legendary['Mean'][0], std1 = Legendary['Standard Deviation'][0], nobs1 = pokemon.Legendary.value_counts()[0], \n",
    "                     mean2 = Legendary['Mean'][1], std2 = Legendary['Standard Deviation'][1], nobs2 = pokemon.Legendary.value_counts()[1])"
   ]
  },
  {
   "cell_type": "markdown",
   "metadata": {},
   "source": [
    "What do you conclude from this test? Write your conclusions below."
   ]
  },
  {
   "cell_type": "code",
   "execution_count": 138,
   "metadata": {},
   "outputs": [
    {
     "name": "stdout",
     "output_type": "stream",
     "text": [
      "As the pvalue=3.0952457469652825e-52 is less than 0,05, one can reject the null hypothesis that there is no significant difference on the means\n"
     ]
    }
   ],
   "source": [
    "# Your conclusions here:\n",
    "print('As the pvalue=3.0952457469652825e-52 is less than 0,05, one can reject the null hypothesis that there is no significant difference on the means')\n"
   ]
  },
  {
   "cell_type": "markdown",
   "metadata": {},
   "source": [
    "How about we try to compare the different types of pokemon? In the cell below, list the types of Pokemon from column `Type 1` and the count of each type."
   ]
  },
  {
   "cell_type": "code",
   "execution_count": 79,
   "metadata": {},
   "outputs": [],
   "source": [
    "# Your code here:\n",
    "\n",
    "type1mean = pd.DataFrame(pokemon.groupby('Type 1').mean()['Total']).reset_index()\n",
    "type1std = pd.DataFrame(pokemon.groupby('Type 1').std()['Total']).reset_index()\n",
    "\n",
    "Type1 = pd.merge(type1mean, type1std, how = 'left', left_on = type1mean['Type 1'], right_on = type1std['Type 1'])\n",
    "Type1 = Type1.drop(columns = ['Type 1_x', 'Type 1_y'], axis = 1)\n",
    "Type1 = Type1.rename(columns = {'key_0': 'Type_1','Total_x': 'Mean', 'Total_y': 'Standard Deviation'})"
   ]
  },
  {
   "cell_type": "code",
   "execution_count": 134,
   "metadata": {},
   "outputs": [
    {
     "data": {
      "text/plain": [
       "688"
      ]
     },
     "execution_count": 134,
     "metadata": {},
     "output_type": "execute_result"
    }
   ],
   "source": []
  },
  {
   "cell_type": "markdown",
   "metadata": {},
   "source": [
    "Since water is the largest group of Pokemon, compare the mean and standard deviation of water Pokemon to all other Pokemon."
   ]
  },
  {
   "cell_type": "code",
   "execution_count": 142,
   "metadata": {},
   "outputs": [],
   "source": [
    "# Your code here:\n",
    "Type1[0:17]['Mean'].mean()\n",
    "Type1[0:17]['Standard Deviation'].std()\n",
    "pokemon['Type 1'].value_counts()[1:].sum()\n",
    "mean_water = 430.455357\n",
    "std_water = 113.188266\n",
    "count_water = pokemon['Type 1'].value_counts()[0]"
   ]
  },
  {
   "cell_type": "markdown",
   "metadata": {},
   "source": [
    "Perform a hypothesis test comparing the mean of total points for water Pokemon to all non-water Pokemon. Assume the variances are equal. "
   ]
  },
  {
   "cell_type": "code",
   "execution_count": 141,
   "metadata": {},
   "outputs": [
    {
     "data": {
      "text/plain": [
       "Ttest_indResult(statistic=-2.8567248827642686, pvalue=0.004391624881211458)"
      ]
     },
     "execution_count": 141,
     "metadata": {},
     "output_type": "execute_result"
    }
   ],
   "source": [
    "# Your code here:\n",
    "\n",
    "ttest_ind_from_stats(mean_water, std_water, count_water,\n",
    "                    Type1[0:17]['Mean'].mean(), Type1[0:17]['Standard Deviation'].std(), pokemon['Type 1'].value_counts()[1:].sum())"
   ]
  },
  {
   "cell_type": "markdown",
   "metadata": {},
   "source": [
    "Write your conclusion below."
   ]
  },
  {
   "cell_type": "code",
   "execution_count": 140,
   "metadata": {},
   "outputs": [
    {
     "name": "stdout",
     "output_type": "stream",
     "text": [
      "As the pvalue = 0.004391624881211458 is less than 0,05, one can reject the null hypothesis that there no significant difference on the means of the water Pokémon with the remaining\n"
     ]
    }
   ],
   "source": [
    "# Your conclusions here:\n",
    "print('As the pvalue = 0.004391624881211458 is less than 0,05, one can reject the null hypothesis that there no significant difference on the means of the water Pokémon with the remaining')\n"
   ]
  },
  {
   "cell_type": "markdown",
   "metadata": {},
   "source": [
    "# Challenge 2 - Matched Pairs Test\n",
    "\n",
    "In this challenge we will compare dependent samples of data describing our Pokemon. Our goal is to see whether there is a significant difference between each Pokemon's defense and attack scores. Our hypothesis is that the defense and attack scores are equal. In the cell below, import the `ttest_rel` function from `scipy.stats` and compare the two columns to see if there is a statistically significant difference between them."
   ]
  },
  {
   "cell_type": "code",
   "execution_count": 150,
   "metadata": {},
   "outputs": [
    {
     "data": {
      "text/plain": [
       "Ttest_relResult(statistic=4.325566393330478, pvalue=1.7140303479358558e-05)"
      ]
     },
     "execution_count": 150,
     "metadata": {},
     "output_type": "execute_result"
    }
   ],
   "source": [
    "# Your code here:\n",
    "\n",
    "attack_def = pokemon.filter(['Attack', 'Defense'])\n",
    "attack_def\n",
    "\n",
    "ttest_rel(attack_def.Attack, attack_def.Defense)\n"
   ]
  },
  {
   "cell_type": "markdown",
   "metadata": {},
   "source": [
    "Describe the results of the test in the cell below."
   ]
  },
  {
   "cell_type": "code",
   "execution_count": 151,
   "metadata": {},
   "outputs": [
    {
     "name": "stdout",
     "output_type": "stream",
     "text": [
      "As the pvalue = 1.7140303479358558e-05 is less than 0,05, one can reject the null hypothesis that the defense and attack scores are equal\n"
     ]
    }
   ],
   "source": [
    "# Your conclusions here:\n",
    "\n",
    "print('As the pvalue = 1.7140303479358558e-05 is less than 0,05, one can reject the null hypothesis that the defense and attack scores are equal')\n"
   ]
  },
  {
   "cell_type": "markdown",
   "metadata": {},
   "source": [
    "We are also curious about whether therer is a significant difference between the mean of special defense and the mean of special attack. Perform the hypothesis test in the cell below. "
   ]
  },
  {
   "cell_type": "code",
   "execution_count": 152,
   "metadata": {},
   "outputs": [
    {
     "data": {
      "text/plain": [
       "Ttest_relResult(statistic=0.853986188453353, pvalue=0.3933685997548122)"
      ]
     },
     "execution_count": 152,
     "metadata": {},
     "output_type": "execute_result"
    }
   ],
   "source": [
    "# Your code here:\n",
    "\n",
    "spattack_spdef = pokemon.filter(['Sp. Atk', 'Sp. Def'])\n",
    "\n",
    "ttest_rel(spattack_spdef['Sp. Atk'], spattack_spdef['Sp. Def'])\n",
    "\n"
   ]
  },
  {
   "cell_type": "markdown",
   "metadata": {},
   "source": [
    "Describe the results of the test in the cell below."
   ]
  },
  {
   "cell_type": "code",
   "execution_count": 153,
   "metadata": {},
   "outputs": [
    {
     "name": "stdout",
     "output_type": "stream",
     "text": [
      "As the pvalue = 0.3933685997548122 is higher than 0,05, one cannot reject the null hypothesis that the mean of special defense and the mean of special attack are equal\n"
     ]
    }
   ],
   "source": [
    "# Your conclusions here:\n",
    "\n",
    "print('As the pvalue = 0.3933685997548122 is higher than 0,05, one cannot reject the null hypothesis that the mean of special defense and the mean of special attack are equal')\n"
   ]
  },
  {
   "cell_type": "markdown",
   "metadata": {},
   "source": [
    "As you may recall, a two sample matched pairs test can also be expressed as a one sample test of the difference between the two dependent columns.\n",
    "\n",
    "Import the `ttest_1samp` function and perform a one sample t-test of the difference between defense and attack. Test the hypothesis that the difference between the means is zero. Confirm that the results of the test are the same."
   ]
  },
  {
   "cell_type": "code",
   "execution_count": 155,
   "metadata": {},
   "outputs": [
    {
     "data": {
      "text/plain": [
       "Ttest_1sampResult(statistic=4.325566393330478, pvalue=1.7140303479358558e-05)"
      ]
     },
     "execution_count": 155,
     "metadata": {},
     "output_type": "execute_result"
    }
   ],
   "source": [
    "# Your code here:\n",
    "from scipy.stats import ttest_1samp\n",
    "\n",
    "ttest_1samp(attack_def['Attack'] - attack_def['Defense'], 0)"
   ]
  },
  {
   "cell_type": "code",
   "execution_count": 156,
   "metadata": {},
   "outputs": [
    {
     "name": "stdout",
     "output_type": "stream",
     "text": [
      "As the pvalue = 1.7140303479358558e-05 is less than 0,05, one can reject the null hypothesis that the defense and attack scores are equal. In other words, the difference between this two is different from zero for a 95% confidence\n"
     ]
    }
   ],
   "source": [
    "print('As the pvalue = 1.7140303479358558e-05 is less than 0,05, one can reject the null hypothesis that the defense and attack scores are equal. In other words, the difference between this two is different from zero for a 95% confidence')\n"
   ]
  },
  {
   "cell_type": "markdown",
   "metadata": {},
   "source": [
    "# Bonus Challenge - The Chi-Square Test\n",
    "\n",
    "The Chi-Square test is used to determine whether there is a statistically significant difference in frequencies. In other words, we are testing whether there is a relationship between categorical variables or rather when the variables are independent. This test is an alternative to Fisher's exact test and is used in scenarios where sample sizes are larger. However, with a large enough sample size, both tests produce similar results. Read more about the Chi Squared test [here](https://en.wikipedia.org/wiki/Chi-squared_test).\n",
    "\n",
    "In the cell below, create a contingency table using `pd.crosstab` comparing whether a Pokemon is legendary or not and whether the Type 1 of a Pokemon is water or not."
   ]
  },
  {
   "cell_type": "code",
   "execution_count": 157,
   "metadata": {},
   "outputs": [],
   "source": [
    "# Your code here:\n",
    "\n",
    "res=[]\n",
    "for e in pokemon.columns:\n",
    "    pvalues=[]\n",
    "    for f in pokemon.columns:\n",
    "        pvalues.append(chi2_contingency(pd.crosstab(pokemon[e], pokemon[f]))[1])\n",
    "    res.append(pvalues)"
   ]
  },
  {
   "cell_type": "code",
   "execution_count": 158,
   "metadata": {},
   "outputs": [
    {
     "data": {
      "text/html": [
       "<div>\n",
       "<style scoped>\n",
       "    .dataframe tbody tr th:only-of-type {\n",
       "        vertical-align: middle;\n",
       "    }\n",
       "\n",
       "    .dataframe tbody tr th {\n",
       "        vertical-align: top;\n",
       "    }\n",
       "\n",
       "    .dataframe thead th {\n",
       "        text-align: right;\n",
       "    }\n",
       "</style>\n",
       "<table border=\"1\" class=\"dataframe\">\n",
       "  <thead>\n",
       "    <tr style=\"text-align: right;\">\n",
       "      <th></th>\n",
       "      <th>#</th>\n",
       "      <th>Name</th>\n",
       "      <th>Type 1</th>\n",
       "      <th>Type 2</th>\n",
       "      <th>Total</th>\n",
       "      <th>HP</th>\n",
       "      <th>Attack</th>\n",
       "      <th>Defense</th>\n",
       "      <th>Sp. Atk</th>\n",
       "      <th>Sp. Def</th>\n",
       "      <th>Speed</th>\n",
       "      <th>Generation</th>\n",
       "      <th>Legendary</th>\n",
       "    </tr>\n",
       "  </thead>\n",
       "  <tbody>\n",
       "    <tr>\n",
       "      <th>0</th>\n",
       "      <td>0.000000e+00</td>\n",
       "      <td>0.250925</td>\n",
       "      <td>2.350660e-17</td>\n",
       "      <td>5.509488e-07</td>\n",
       "      <td>1.055099e-22</td>\n",
       "      <td>3.010580e-73</td>\n",
       "      <td>6.361779e-01</td>\n",
       "      <td>2.723031e-07</td>\n",
       "      <td>8.855460e-01</td>\n",
       "      <td>3.069270e-19</td>\n",
       "      <td>1.855349e-01</td>\n",
       "      <td>2.585259e-06</td>\n",
       "      <td>2.007432e-02</td>\n",
       "    </tr>\n",
       "    <tr>\n",
       "      <th>1</th>\n",
       "      <td>2.509250e-01</td>\n",
       "      <td>0.239658</td>\n",
       "      <td>4.573376e-01</td>\n",
       "      <td>4.561973e-01</td>\n",
       "      <td>3.616979e-01</td>\n",
       "      <td>4.040528e-01</td>\n",
       "      <td>3.959490e-01</td>\n",
       "      <td>3.996739e-01</td>\n",
       "      <td>3.987286e-01</td>\n",
       "      <td>4.050556e-01</td>\n",
       "      <td>3.973285e-01</td>\n",
       "      <td>4.747356e-01</td>\n",
       "      <td>4.833763e-01</td>\n",
       "    </tr>\n",
       "    <tr>\n",
       "      <th>2</th>\n",
       "      <td>2.350660e-17</td>\n",
       "      <td>0.457338</td>\n",
       "      <td>0.000000e+00</td>\n",
       "      <td>8.400800e-51</td>\n",
       "      <td>1.416717e-14</td>\n",
       "      <td>7.080961e-09</td>\n",
       "      <td>4.632391e-01</td>\n",
       "      <td>1.307090e-05</td>\n",
       "      <td>9.572057e-03</td>\n",
       "      <td>3.507652e-02</td>\n",
       "      <td>2.166418e-15</td>\n",
       "      <td>2.412613e-09</td>\n",
       "      <td>5.118547e-12</td>\n",
       "    </tr>\n",
       "    <tr>\n",
       "      <th>3</th>\n",
       "      <td>5.509488e-07</td>\n",
       "      <td>0.456197</td>\n",
       "      <td>8.400800e-51</td>\n",
       "      <td>0.000000e+00</td>\n",
       "      <td>9.562828e-16</td>\n",
       "      <td>3.990602e-10</td>\n",
       "      <td>1.738641e-03</td>\n",
       "      <td>2.293469e-17</td>\n",
       "      <td>2.306009e-07</td>\n",
       "      <td>5.632887e-09</td>\n",
       "      <td>1.093822e-05</td>\n",
       "      <td>1.249105e-18</td>\n",
       "      <td>2.601501e-02</td>\n",
       "    </tr>\n",
       "    <tr>\n",
       "      <th>4</th>\n",
       "      <td>1.055099e-22</td>\n",
       "      <td>0.361698</td>\n",
       "      <td>1.416717e-14</td>\n",
       "      <td>9.562828e-16</td>\n",
       "      <td>0.000000e+00</td>\n",
       "      <td>0.000000e+00</td>\n",
       "      <td>1.627925e-238</td>\n",
       "      <td>2.114521e-300</td>\n",
       "      <td>0.000000e+00</td>\n",
       "      <td>0.000000e+00</td>\n",
       "      <td>3.175683e-203</td>\n",
       "      <td>8.209600e-12</td>\n",
       "      <td>1.149036e-40</td>\n",
       "    </tr>\n",
       "    <tr>\n",
       "      <th>5</th>\n",
       "      <td>3.010580e-73</td>\n",
       "      <td>0.404053</td>\n",
       "      <td>7.080961e-09</td>\n",
       "      <td>3.990602e-10</td>\n",
       "      <td>0.000000e+00</td>\n",
       "      <td>0.000000e+00</td>\n",
       "      <td>0.000000e+00</td>\n",
       "      <td>8.367637e-201</td>\n",
       "      <td>0.000000e+00</td>\n",
       "      <td>2.007765e-252</td>\n",
       "      <td>6.551847e-205</td>\n",
       "      <td>9.115682e-14</td>\n",
       "      <td>2.959964e-21</td>\n",
       "    </tr>\n",
       "    <tr>\n",
       "      <th>6</th>\n",
       "      <td>6.361779e-01</td>\n",
       "      <td>0.395949</td>\n",
       "      <td>4.632391e-01</td>\n",
       "      <td>1.738641e-03</td>\n",
       "      <td>1.627925e-238</td>\n",
       "      <td>0.000000e+00</td>\n",
       "      <td>0.000000e+00</td>\n",
       "      <td>3.254568e-306</td>\n",
       "      <td>0.000000e+00</td>\n",
       "      <td>1.363342e-210</td>\n",
       "      <td>1.247229e-211</td>\n",
       "      <td>4.490396e-04</td>\n",
       "      <td>6.544111e-11</td>\n",
       "    </tr>\n",
       "    <tr>\n",
       "      <th>7</th>\n",
       "      <td>2.723031e-07</td>\n",
       "      <td>0.399674</td>\n",
       "      <td>1.307090e-05</td>\n",
       "      <td>2.293469e-17</td>\n",
       "      <td>2.114521e-300</td>\n",
       "      <td>8.367637e-201</td>\n",
       "      <td>3.254568e-306</td>\n",
       "      <td>0.000000e+00</td>\n",
       "      <td>7.210732e-189</td>\n",
       "      <td>0.000000e+00</td>\n",
       "      <td>1.299593e-181</td>\n",
       "      <td>2.193695e-09</td>\n",
       "      <td>3.567665e-09</td>\n",
       "    </tr>\n",
       "    <tr>\n",
       "      <th>8</th>\n",
       "      <td>8.855460e-01</td>\n",
       "      <td>0.398729</td>\n",
       "      <td>9.572057e-03</td>\n",
       "      <td>2.306009e-07</td>\n",
       "      <td>0.000000e+00</td>\n",
       "      <td>0.000000e+00</td>\n",
       "      <td>0.000000e+00</td>\n",
       "      <td>7.210732e-189</td>\n",
       "      <td>0.000000e+00</td>\n",
       "      <td>0.000000e+00</td>\n",
       "      <td>2.481221e-275</td>\n",
       "      <td>6.548407e-11</td>\n",
       "      <td>2.385355e-24</td>\n",
       "    </tr>\n",
       "    <tr>\n",
       "      <th>9</th>\n",
       "      <td>3.069270e-19</td>\n",
       "      <td>0.405056</td>\n",
       "      <td>3.507652e-02</td>\n",
       "      <td>5.632887e-09</td>\n",
       "      <td>0.000000e+00</td>\n",
       "      <td>2.007765e-252</td>\n",
       "      <td>1.363342e-210</td>\n",
       "      <td>0.000000e+00</td>\n",
       "      <td>0.000000e+00</td>\n",
       "      <td>0.000000e+00</td>\n",
       "      <td>1.211056e-183</td>\n",
       "      <td>5.242858e-10</td>\n",
       "      <td>2.404296e-18</td>\n",
       "    </tr>\n",
       "    <tr>\n",
       "      <th>10</th>\n",
       "      <td>1.855349e-01</td>\n",
       "      <td>0.397329</td>\n",
       "      <td>2.166418e-15</td>\n",
       "      <td>1.093822e-05</td>\n",
       "      <td>3.175683e-203</td>\n",
       "      <td>6.551847e-205</td>\n",
       "      <td>1.247229e-211</td>\n",
       "      <td>1.299593e-181</td>\n",
       "      <td>2.481221e-275</td>\n",
       "      <td>1.211056e-183</td>\n",
       "      <td>0.000000e+00</td>\n",
       "      <td>1.636716e-13</td>\n",
       "      <td>1.091919e-10</td>\n",
       "    </tr>\n",
       "    <tr>\n",
       "      <th>11</th>\n",
       "      <td>2.585259e-06</td>\n",
       "      <td>0.474736</td>\n",
       "      <td>2.412613e-09</td>\n",
       "      <td>1.249105e-18</td>\n",
       "      <td>8.209600e-12</td>\n",
       "      <td>9.115682e-14</td>\n",
       "      <td>4.490396e-04</td>\n",
       "      <td>2.193695e-09</td>\n",
       "      <td>6.548407e-11</td>\n",
       "      <td>5.242858e-10</td>\n",
       "      <td>1.636716e-13</td>\n",
       "      <td>0.000000e+00</td>\n",
       "      <td>7.880338e-02</td>\n",
       "    </tr>\n",
       "    <tr>\n",
       "      <th>12</th>\n",
       "      <td>2.007432e-02</td>\n",
       "      <td>0.483376</td>\n",
       "      <td>5.118547e-12</td>\n",
       "      <td>2.601501e-02</td>\n",
       "      <td>1.149036e-40</td>\n",
       "      <td>2.959964e-21</td>\n",
       "      <td>6.544111e-11</td>\n",
       "      <td>3.567665e-09</td>\n",
       "      <td>2.385355e-24</td>\n",
       "      <td>2.404296e-18</td>\n",
       "      <td>1.091919e-10</td>\n",
       "      <td>7.880338e-02</td>\n",
       "      <td>4.290007e-173</td>\n",
       "    </tr>\n",
       "  </tbody>\n",
       "</table>\n",
       "</div>"
      ],
      "text/plain": [
       "               #      Name        Type 1        Type 2          Total  \\\n",
       "0   0.000000e+00  0.250925  2.350660e-17  5.509488e-07   1.055099e-22   \n",
       "1   2.509250e-01  0.239658  4.573376e-01  4.561973e-01   3.616979e-01   \n",
       "2   2.350660e-17  0.457338  0.000000e+00  8.400800e-51   1.416717e-14   \n",
       "3   5.509488e-07  0.456197  8.400800e-51  0.000000e+00   9.562828e-16   \n",
       "4   1.055099e-22  0.361698  1.416717e-14  9.562828e-16   0.000000e+00   \n",
       "5   3.010580e-73  0.404053  7.080961e-09  3.990602e-10   0.000000e+00   \n",
       "6   6.361779e-01  0.395949  4.632391e-01  1.738641e-03  1.627925e-238   \n",
       "7   2.723031e-07  0.399674  1.307090e-05  2.293469e-17  2.114521e-300   \n",
       "8   8.855460e-01  0.398729  9.572057e-03  2.306009e-07   0.000000e+00   \n",
       "9   3.069270e-19  0.405056  3.507652e-02  5.632887e-09   0.000000e+00   \n",
       "10  1.855349e-01  0.397329  2.166418e-15  1.093822e-05  3.175683e-203   \n",
       "11  2.585259e-06  0.474736  2.412613e-09  1.249105e-18   8.209600e-12   \n",
       "12  2.007432e-02  0.483376  5.118547e-12  2.601501e-02   1.149036e-40   \n",
       "\n",
       "               HP         Attack        Defense        Sp. Atk        Sp. Def  \\\n",
       "0    3.010580e-73   6.361779e-01   2.723031e-07   8.855460e-01   3.069270e-19   \n",
       "1    4.040528e-01   3.959490e-01   3.996739e-01   3.987286e-01   4.050556e-01   \n",
       "2    7.080961e-09   4.632391e-01   1.307090e-05   9.572057e-03   3.507652e-02   \n",
       "3    3.990602e-10   1.738641e-03   2.293469e-17   2.306009e-07   5.632887e-09   \n",
       "4    0.000000e+00  1.627925e-238  2.114521e-300   0.000000e+00   0.000000e+00   \n",
       "5    0.000000e+00   0.000000e+00  8.367637e-201   0.000000e+00  2.007765e-252   \n",
       "6    0.000000e+00   0.000000e+00  3.254568e-306   0.000000e+00  1.363342e-210   \n",
       "7   8.367637e-201  3.254568e-306   0.000000e+00  7.210732e-189   0.000000e+00   \n",
       "8    0.000000e+00   0.000000e+00  7.210732e-189   0.000000e+00   0.000000e+00   \n",
       "9   2.007765e-252  1.363342e-210   0.000000e+00   0.000000e+00   0.000000e+00   \n",
       "10  6.551847e-205  1.247229e-211  1.299593e-181  2.481221e-275  1.211056e-183   \n",
       "11   9.115682e-14   4.490396e-04   2.193695e-09   6.548407e-11   5.242858e-10   \n",
       "12   2.959964e-21   6.544111e-11   3.567665e-09   2.385355e-24   2.404296e-18   \n",
       "\n",
       "            Speed    Generation      Legendary  \n",
       "0    1.855349e-01  2.585259e-06   2.007432e-02  \n",
       "1    3.973285e-01  4.747356e-01   4.833763e-01  \n",
       "2    2.166418e-15  2.412613e-09   5.118547e-12  \n",
       "3    1.093822e-05  1.249105e-18   2.601501e-02  \n",
       "4   3.175683e-203  8.209600e-12   1.149036e-40  \n",
       "5   6.551847e-205  9.115682e-14   2.959964e-21  \n",
       "6   1.247229e-211  4.490396e-04   6.544111e-11  \n",
       "7   1.299593e-181  2.193695e-09   3.567665e-09  \n",
       "8   2.481221e-275  6.548407e-11   2.385355e-24  \n",
       "9   1.211056e-183  5.242858e-10   2.404296e-18  \n",
       "10   0.000000e+00  1.636716e-13   1.091919e-10  \n",
       "11   1.636716e-13  0.000000e+00   7.880338e-02  \n",
       "12   1.091919e-10  7.880338e-02  4.290007e-173  "
      ]
     },
     "execution_count": 158,
     "metadata": {},
     "output_type": "execute_result"
    }
   ],
   "source": [
    "p_values = pd.DataFrame(res, columns = pokemon.columns)\n",
    "p_values"
   ]
  },
  {
   "cell_type": "markdown",
   "metadata": {},
   "source": [
    "Perform a chi-squared test using the `chi2_contingency` function in `scipy.stats`. You can read the documentation of the function [here](https://docs.scipy.org/doc/scipy-0.15.1/reference/generated/scipy.stats.chi2_contingency.html)."
   ]
  },
  {
   "cell_type": "code",
   "execution_count": 18,
   "metadata": {},
   "outputs": [],
   "source": [
    "# Your code here:\n",
    "\n"
   ]
  },
  {
   "cell_type": "markdown",
   "metadata": {},
   "source": [
    "Based on a 95% confidence, should we reject the null hypothesis?"
   ]
  },
  {
   "cell_type": "code",
   "execution_count": 19,
   "metadata": {},
   "outputs": [],
   "source": [
    "# Your answer here:\n",
    "\n"
   ]
  },
  {
   "cell_type": "code",
   "execution_count": null,
   "metadata": {},
   "outputs": [],
   "source": []
  }
 ],
 "metadata": {
  "kernelspec": {
   "display_name": "Python 3",
   "language": "python",
   "name": "python3"
  },
  "language_info": {
   "codemirror_mode": {
    "name": "ipython",
    "version": 3
   },
   "file_extension": ".py",
   "mimetype": "text/x-python",
   "name": "python",
   "nbconvert_exporter": "python",
   "pygments_lexer": "ipython3",
   "version": "3.9.2"
  }
 },
 "nbformat": 4,
 "nbformat_minor": 2
}
